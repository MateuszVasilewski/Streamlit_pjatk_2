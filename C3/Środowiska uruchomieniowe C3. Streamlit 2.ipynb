{
 "cells": [
  {
   "cell_type": "markdown",
   "id": "norman-choice",
   "metadata": {},
   "source": [
    "# Środowiska uruchomieniowe C3. Streamlit 2.\n",
    "#### Celem tego ćwiczenia jest przedstawienie w uproszczeniu procesu trenowania kilku podstawowych modeli ML. Wykorzystamy słynny zbiór danych z Kaggle - Titanic - Machine Learning from Disaster. Więcej informacji o tych danych można znaleźć na stronie internetowej - https://www.kaggle.com/c/titanic/data "
   ]
  },
  {
   "cell_type": "markdown",
   "id": "7a96f4da",
   "metadata": {},
   "source": [
    "### 1. Import bibliotek"
   ]
  },
  {
   "cell_type": "code",
   "execution_count": 1,
   "id": "tribal-advertising",
   "metadata": {},
   "outputs": [],
   "source": [
    "import pandas as pd\n",
    "import numpy as np\n",
    "import matplotlib as plt\n",
    "import os\n",
    "import matplotlib.pyplot as plt\n",
    "import seaborn as sns\n",
    "import pickle\n",
    "\n",
    "from sklearn.metrics import classification_report\n",
    "from sklearn.preprocessing import LabelEncoder\n",
    "from sklearn.model_selection import train_test_split\n",
    "from sklearn.metrics import accuracy_score\n",
    "\n",
    "from sklearn.ensemble import RandomForestClassifier\n",
    "from sklearn.linear_model import LogisticRegression\n",
    "from sklearn.tree import DecisionTreeClassifier"
   ]
  },
  {
   "cell_type": "markdown",
   "id": "2feb2c32",
   "metadata": {},
   "source": [
    "### 2. Przygotowanie danych do analizy"
   ]
  },
  {
   "cell_type": "code",
   "execution_count": 2,
   "id": "da8589e9",
   "metadata": {},
   "outputs": [
    {
     "data": {
      "text/plain": [
       "'C:\\\\Users\\\\s18668\\\\Downloads\\\\C3-20211107T121055Z-001\\\\C3'"
      ]
     },
     "execution_count": 2,
     "metadata": {},
     "output_type": "execute_result"
    }
   ],
   "source": [
    "os.getcwd()"
   ]
  },
  {
   "cell_type": "code",
   "execution_count": 3,
   "id": "forced-reporter",
   "metadata": {},
   "outputs": [],
   "source": [
    "base_data = pd.read_csv(\"dane2.csv\", sep = \";\");\n",
    "base_data.columns\n",
    "# na tym etapie tworzymy nową zmienną, którą nazywamy base_data, zawierającą nasz zbiór danych\n",
    "data = base_data;\n",
    "# tworzymy kopię naszych danych bez zbędnych kolumn (np. PassengerID i Name)"
   ]
  },
  {
   "cell_type": "code",
   "execution_count": 4,
   "id": "580495c6",
   "metadata": {},
   "outputs": [
    {
     "data": {
      "text/plain": [
       "objawy     False\n",
       "wiek        True\n",
       "choroby    False\n",
       "wzrost      True\n",
       "zdrowie    False\n",
       "dtype: bool"
      ]
     },
     "execution_count": 4,
     "metadata": {},
     "output_type": "execute_result"
    }
   ],
   "source": [
    "data.isnull().any()\n",
    "# sprawdzamy czy mamy jakiekolwiek brakujące dane"
   ]
  },
  {
   "cell_type": "markdown",
   "id": "cf45f631",
   "metadata": {},
   "source": [
    "#### Możemy wygenerować mapę ciepła symbolizującą braki danych - każdy \"pomarańczowy pasek\" to miejsce, w którym jest brak danych"
   ]
  },
  {
   "cell_type": "code",
   "execution_count": 5,
   "id": "1b351179",
   "metadata": {},
   "outputs": [
    {
     "data": {
      "text/plain": [
       "<AxesSubplot:>"
      ]
     },
     "execution_count": 5,
     "metadata": {},
     "output_type": "execute_result"
    },
    {
     "data": {
      "image/png": "[encoded data removed]",
      "text/plain": [
       "<Figure size 432x288 with 1 Axes>"
      ]
     },
     "metadata": {
      "needs_background": "light"
     },
     "output_type": "display_data"
    }
   ],
   "source": [
    "sns.heatmap(data.isnull(),yticklabels=False,cbar=False,cmap='viridis')\n",
    "# cbar ustalamy jako false, ponieważ nie wniesie nam to dodatkowych informacji"
   ]
  },
  {
   "cell_type": "markdown",
   "id": "dc2c653f",
   "metadata": {},
   "source": [
    "#### Już po tej prostej wizualizacji widzimy, że mamy dużo przypadków brakujących danych odnoszących się do wieku. Brakujące dane odnośnie wieku możemy zastąpić średnią."
   ]
  },
  {
   "cell_type": "code",
   "execution_count": 6,
   "id": "informed-asian",
   "metadata": {},
   "outputs": [],
   "source": [
    "# Transformations and additions\n",
    "data[\"wiek\"].fillna((data[\"wiek\"].mean()), inplace=True)\n",
    "data[\"wzrost\"].fillna((data[\"wzrost\"].mean()), inplace=True)"
   ]
  },
  {
   "cell_type": "code",
   "execution_count": 7,
   "id": "383b630a",
   "metadata": {},
   "outputs": [
    {
     "data": {
      "text/plain": [
       "objawy     False\n",
       "wiek       False\n",
       "choroby    False\n",
       "wzrost     False\n",
       "zdrowie    False\n",
       "dtype: bool"
      ]
     },
     "execution_count": 7,
     "metadata": {},
     "output_type": "execute_result"
    }
   ],
   "source": [
    "data.isnull().any()"
   ]
  },
  {
   "cell_type": "markdown",
   "id": "25435d4f",
   "metadata": {},
   "source": [
    "#### Zanim przejdziemy dalej musimy jeszcze zadbać o właściwe nazewnictwo zmiennych. W naszej bazie danych mamy na razie informację w postaci Stringów - np. płeć jest oznaczona jako male lub female. Musimy to naprawić za pomocą \"dumy variable\". Zamienimy je automatycznie na wartości np. 1 będzie dla mężczyzn. Przczytaj o tym więcej: https://pl.wikipedia.org/wiki/Dummy_coding"
   ]
  },
  {
   "cell_type": "code",
   "execution_count": 8,
   "id": "7053913d",
   "metadata": {},
   "outputs": [],
   "source": [
    "encoder = LabelEncoder()\n",
    "data.loc[:,\"Sex\"] = encoder.fit_transform(data.loc[:,\"Sex\"])\n",
    "# male = 1, female = 0\n",
    "\n",
    "encoder = LabelEncoder()\n",
    "data.loc[:,\"Embarked\"] = encoder.fit_transform(data.loc[:,\"Embarked\"])"
   ]
  },
  {
   "cell_type": "markdown",
   "id": "90c7b885",
   "metadata": {},
   "source": [
    "### 3. Eksploracja danych"
   ]
  },
  {
   "cell_type": "code",
   "execution_count": 9,
   "id": "adbbea3e",
   "metadata": {},
   "outputs": [
    {
     "data": {
      "text/plain": [
       "<AxesSubplot:xlabel='Survived', ylabel='count'>"
      ]
     },
     "execution_count": 9,
     "metadata": {},
     "output_type": "execute_result"
    },
    {
     "data": {
      "image/png": "[encoded data removed]",
      "text/plain": [
       "<Figure size 432x288 with 1 Axes>"
      ]
     },
     "metadata": {},
     "output_type": "display_data"
    }
   ],
   "source": [
    "sns.set_style('whitegrid')\n",
    "sns.countplot(x='Survived',data=data)\n",
    "# używamy biblioteki seaborn do stworzenia prostego wykresu symbolizującego osoby, które przeżyły (1) i nie przeżyły (0)"
   ]
  },
  {
   "cell_type": "code",
   "execution_count": 10,
   "id": "d211aad2",
   "metadata": {},
   "outputs": [
    {
     "data": {
      "text/plain": [
       "<AxesSubplot:xlabel='Survived', ylabel='count'>"
      ]
     },
     "execution_count": 10,
     "metadata": {},
     "output_type": "execute_result"
    },
    {
     "data": {
      "image/png": "[encoded data removed]",
      "text/plain": [
       "<Figure size 432x288 with 1 Axes>"
      ]
     },
     "metadata": {},
     "output_type": "display_data"
    }
   ],
   "source": [
    "sns.set_style('whitegrid')\n",
    "sns.countplot(x='Survived',hue='Sex',data=data)\n",
    "# możemy też wygenerować taki wykres, który powie nam więcej o płci osób, które nie przeżyły"
   ]
  },
  {
   "cell_type": "code",
   "execution_count": 8,
   "id": "d362a239",
   "metadata": {},
   "outputs": [
    {
     "name": "stdout",
     "output_type": "stream",
     "text": [
      "    objawy       wiek  choroby      wzrost  zdrowie\n",
      "0        1  44.163636        0  170.000000        0\n",
      "1        1  65.000000        0  183.345455        0\n",
      "2        1  55.000000        0  182.000000        0\n",
      "3        1  44.000000        0  187.000000        0\n",
      "4        1  77.000000        0  165.000000        0\n",
      "5        1  64.000000        0  164.000000        0\n",
      "6        2  54.000000        1  178.000000        0\n",
      "7        1  44.163636        1  190.000000        0\n",
      "8        1  76.000000        1  200.000000        0\n",
      "9        2  54.000000        0  198.000000        0\n",
      "10       3  56.000000        0  187.000000        0\n",
      "11       1  68.000000        0  167.000000        0\n",
      "12       3  44.163636        1  168.000000        0\n",
      "13       2  55.000000        1  189.000000        0\n",
      "14       1  44.000000        1  177.000000        0\n",
      "15       2  43.000000        1  166.000000        0\n",
      "16       2  32.000000        1  188.000000        0\n",
      "17       3  23.000000        1  198.000000        0\n",
      "18       2  42.000000        0  176.000000        0\n",
      "19       3  44.163636        0  167.000000        0\n",
      "20       2  11.000000        0  159.000000        0\n",
      "21       1  21.000000        0  198.000000        0\n",
      "22       4  34.000000        1  192.000000        0\n",
      "23       4  32.000000        1  183.345455        0\n",
      "24       4  12.000000        2  194.000000        0\n",
      "25       4  44.163636        0  199.000000        0\n",
      "26       4  33.000000        1  200.000000        0\n",
      "27       4  42.000000        2  187.000000        0\n",
      "28       4  32.000000        0  168.000000        0\n",
      "29       4  34.000000        1  187.000000        1\n",
      "30       4  67.000000        5  170.000000        1\n",
      "31       4  65.000000        4  188.000000        1\n",
      "32       4  55.000000        5  182.000000        1\n",
      "33       4  44.000000        4  187.000000        1\n",
      "34       4  77.000000        5  165.000000        1\n",
      "35       4  64.000000        3  183.345455        1\n",
      "36       5  54.000000        4  178.000000        1\n",
      "37       5  34.000000        5  190.000000        1\n",
      "38       5  76.000000        5  200.000000        1\n",
      "39       5  54.000000        4  198.000000        1\n",
      "40       5  56.000000        3  187.000000        1\n",
      "41       5  68.000000        2  167.000000        1\n",
      "42       5  76.000000        3  168.000000        1\n",
      "43       5  55.000000        4  189.000000        1\n",
      "44       5  44.000000        2  183.345455        1\n",
      "45       5  43.000000        0  166.000000        1\n",
      "46       5  32.000000        1  188.000000        1\n",
      "47       5  23.000000        1  198.000000        1\n",
      "48       5  42.000000        0  176.000000        1\n",
      "49       4  21.000000        0  167.000000        1\n",
      "50       5  11.000000        0  183.345455        1\n",
      "51       5  21.000000        0  198.000000        1\n",
      "52       5  34.000000        1  192.000000        1\n",
      "53       5  32.000000        1  194.000000        1\n",
      "54       5  12.000000        2  194.000000        1\n",
      "55       5  25.000000        0  199.000000        1\n",
      "56       5  33.000000        1  200.000000        1\n",
      "57       5  42.000000        2  187.000000        1\n",
      "58       5  32.000000        0  168.000000        1\n",
      "59       4  34.000000        1  187.000000        1\n"
     ]
    }
   ],
   "source": [
    "print(data)"
   ]
  },
  {
   "cell_type": "markdown",
   "id": "5ff38f6b",
   "metadata": {},
   "source": [
    "### 4. Trenowanie modelu"
   ]
  },
  {
   "cell_type": "code",
   "execution_count": 9,
   "id": "banned-rabbit",
   "metadata": {},
   "outputs": [],
   "source": [
    "y = data.iloc[:,4] # survived - zmienna, którą będziemy chcieli przewidzieć\n",
    "x = data.iloc[:,0:3] # zmienne na podstawie, których chcemy przewidzieć\n",
    "X_train, X_test, y_train, y_test = train_test_split(x, y, test_size = 0.2, random_state = 0)\n",
    "# test size odnosi się do liczby obserwacji przeznaczonej do wytrenowania modelu"
   ]
  },
  {
   "cell_type": "code",
   "execution_count": 10,
   "id": "bibliographic-greene",
   "metadata": {},
   "outputs": [
    {
     "name": "stdout",
     "output_type": "stream",
     "text": [
      "Las: 0.9791666666666666\n",
      "Regresja logistyczna: 0.8958333333333334\n",
      "Drzewa decyzyjne: 1.0\n"
     ]
    }
   ],
   "source": [
    "def model(X_train, y_train):\n",
    "    \n",
    "    forest = RandomForestClassifier( n_estimators=10, random_state=0)\n",
    "    forest.fit(X_train,y_train)\n",
    "    print(\"Las: {0}\".format(forest.score(X_train,y_train)) )\n",
    "    \n",
    "    lreg =LogisticRegression()\n",
    "    lreg.fit(X_train,y_train)\n",
    "    print(\"Regresja logistyczna: {0}\".format(lreg.score(X_train,y_train)) )\n",
    "  \n",
    "    tree =DecisionTreeClassifier()\n",
    "    tree.fit(X_train,y_train)\n",
    "    print(\"Drzewa decyzyjne: {0}\".format(tree.score(X_train,y_train)) )\n",
    "   \n",
    "    return forest, lreg, tree\n",
    "\n",
    "forest, lreg, tree = model(X_train,y_train)"
   ]
  },
  {
   "cell_type": "code",
   "execution_count": 11,
   "id": "fourth-defensive",
   "metadata": {},
   "outputs": [
    {
     "name": "stdout",
     "output_type": "stream",
     "text": [
      "Random Forest 0.75\n",
      "Logistic Regresion 0.8333333333333334\n",
      "Decision Tree 0.8333333333333334\n"
     ]
    }
   ],
   "source": [
    "target_names=[0,1]\n",
    "\n",
    "y1_predict = forest.predict(X_test)\n",
    "print(\"Random Forest {0}\".format(accuracy_score(y_test, y1_predict)))\n",
    "\n",
    "y2_predict = lreg.predict(X_test)\n",
    "print(\"Logistic Regresion {0}\".format(accuracy_score(y_test, y2_predict)))\n",
    "\n",
    "y3_predict = tree.predict(X_test)\n",
    "print(\"Decision Tree {0}\".format(accuracy_score(y_test, y3_predict)))\n",
    "\n",
    "# uzyskujemy dzięki temu informacje dotyczącą dokładności modelu "
   ]
  },
  {
   "cell_type": "code",
   "execution_count": 12,
   "id": "e06003eb",
   "metadata": {},
   "outputs": [
    {
     "name": "stdout",
     "output_type": "stream",
     "text": [
      "Ocena modelu 1. Las\n",
      "              precision    recall  f1-score   support\n",
      "\n",
      "           0       1.00      0.57      0.73         7\n",
      "           1       0.62      1.00      0.77         5\n",
      "\n",
      "    accuracy                           0.75        12\n",
      "   macro avg       0.81      0.79      0.75        12\n",
      "weighted avg       0.84      0.75      0.74        12\n",
      "\n"
     ]
    }
   ],
   "source": [
    "print(\"Ocena modelu 1. Las\")\n",
    "print(classification_report(y_test,y1_predict))\n",
    "# uzyskujemy informację o precyzji, recall, f1, etc.\n",
    "# te wszystkie dane przydadzą się nam do oceny naszego modelu"
   ]
  },
  {
   "cell_type": "markdown",
   "id": "247fc3c3",
   "metadata": {},
   "source": [
    "print(\"Ocena modelu 1. Regresja logistyczna\")\n",
    "print(classification_report(y_test,y2_predict))"
   ]
  },
  {
   "cell_type": "code",
   "execution_count": 13,
   "id": "f24f823c",
   "metadata": {},
   "outputs": [
    {
     "name": "stdout",
     "output_type": "stream",
     "text": [
      "Ocena modelu 1. Drzewa decyzyjne\n",
      "              precision    recall  f1-score   support\n",
      "\n",
      "           0       0.86      0.86      0.86         7\n",
      "           1       0.80      0.80      0.80         5\n",
      "\n",
      "    accuracy                           0.83        12\n",
      "   macro avg       0.83      0.83      0.83        12\n",
      "weighted avg       0.83      0.83      0.83        12\n",
      "\n"
     ]
    }
   ],
   "source": [
    "print(\"Ocena modelu 1. Drzewa decyzyjne\")\n",
    "print(classification_report(y_test,y3_predict))"
   ]
  },
  {
   "cell_type": "markdown",
   "id": "5d26a51b",
   "metadata": {},
   "source": [
    "### 5. Eksport modelu"
   ]
  },
  {
   "cell_type": "markdown",
   "id": "d16c9f76",
   "metadata": {},
   "source": [
    "#### Widzimy, że najlepszymi parametrami cechuje się model pierwszy. Eksportujemy go do pickle."
   ]
  },
  {
   "cell_type": "code",
   "execution_count": 14,
   "id": "168b2ea2",
   "metadata": {},
   "outputs": [],
   "source": [
    "filename = \"model2.sv\"\n",
    "pickle.dump(forest, open(filename,'wb'))"
   ]
  },
  {
   "cell_type": "markdown",
   "id": "8c184acd",
   "metadata": {},
   "source": [
    "### 6. Inne"
   ]
  },
  {
   "cell_type": "markdown",
   "id": "28118320",
   "metadata": {},
   "source": [
    "#### Możemy się jeszcze chwilę pobawić i sprawdzić czy np. osoba z klasy pasażerskiej 1, będąca mężczyzną w wieku 50 lat, nieposiadająca innych członków rodziny, itd. przeżyłaby podróż. Odczytujemy wynik i widzimy, że niestety nie przeżyłaby podróży. Do porównania drugi przykład (kobieta w wieku 20 lat) - model podpowiada nam, że ta osoba przeżyłaby podróż."
   ]
  },
  {
   "cell_type": "code",
   "execution_count": null,
   "id": "3a699a54",
   "metadata": {},
   "outputs": [],
   "source": [
    "my_data =[\n",
    "            [\n",
    "             1,  #\"Pclass\"\n",
    "             1,  #\"Sex\", Sex 0 = Female, 1 = Male\n",
    "             50,  #\"Age\", Age\n",
    "             0,  #\"SibSp\"\n",
    "             0,  #\"Parch\"\n",
    "             0,  #\"Fare\", \n",
    "             2,  #\"Embarked\"\n",
    "    ]\n",
    "]\n",
    "\n",
    "forest.predict(my_data)"
   ]
  },
  {
   "cell_type": "code",
   "execution_count": null,
   "id": "b15778a4",
   "metadata": {},
   "outputs": [],
   "source": [
    "my_data =[\n",
    "            [\n",
    "             1,  #\"Pclass\"\n",
    "             0,  #\"Sex\", Sex 0 = Female, 1 = Male\n",
    "             20,  #\"Age\", Age\n",
    "             1,  #\"SibSp\"\n",
    "             0,  #\"Parch\"\n",
    "             0,  #\"Fare\", \n",
    "             2,  #\"Embarked\"\n",
    "    ]\n",
    "]\n",
    "\n",
    "forest.predict(my_data)"
   ]
  },
  {
   "cell_type": "markdown",
   "id": "50f653c0",
   "metadata": {},
   "source": [
    "##### Źródło danych [https://www.kaggle.com/c/titanic/](https://www.kaggle.com/c/titanic), zastosowanie przez Adama Ramblinga"
   ]
  },
  {
   "cell_type": "code",
   "execution_count": null,
   "id": "9e7c82d8",
   "metadata": {},
   "outputs": [],
   "source": []
  }
 ],
 "metadata": {
  "kernelspec": {
   "display_name": "Python 3 (ipykernel)",
   "language": "python",
   "name": "python3"
  },
  "language_info": {
   "codemirror_mode": {
    "name": "ipython",
    "version": 3
   },
   "file_extension": ".py",
   "mimetype": "text/x-python",
   "name": "python",
   "nbconvert_exporter": "python",
   "pygments_lexer": "ipython3",
   "version": "3.8.12"
  }
 },
 "nbformat": 4,
 "nbformat_minor": 5
}
